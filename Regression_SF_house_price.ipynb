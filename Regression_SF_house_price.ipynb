{
 "cells": [
  {
   "cell_type": "markdown",
   "metadata": {},
   "source": [
    "# Group 28 BUAN 6341.001 Applied Machine Learning -  Regression\n",
    "## Guru Prasad Kumar - GXP190002\n",
    "## Sandhya Subramani - SXS190016"
   ]
  },
  {
   "cell_type": "markdown",
   "metadata": {},
   "source": [
    "Predict the sale price of San Francisco houses using regression techiques"
   ]
  },
  {
   "cell_type": "markdown",
   "metadata": {},
   "source": [
    "Data Description:\n",
    "\n",
    "\n",
    "1) GrLivArea: Above ground living area\n",
    "\n",
    "2) Street: Type of Street \n",
    "\n",
    "3) OverallQual: Overall Quality of the house  \n",
    "\n",
    "4) GarageCars: Number of cars the garage can fit\n",
    "\n",
    "5) GarageArea: Area of the Garage  \n",
    "\n",
    "6) LandSlope: Type of LandSlope  \n",
    "\n",
    "7) TotRmsAbvGrd: Total Number of Rooms above Ground       \n",
    "\n",
    "8) Utilities: Type of Utilities \n",
    "\n",
    "\n",
    "\n",
    "\n",
    "\n",
    "\n",
    "9) FullBath: Total full bathrooms available     \n",
    "\n",
    "\n",
    "\n",
    "\n",
    "\n",
    "\n",
    "\n",
    "\n",
    "\n",
    "10) X1stFlrSF: First Floor Sq.Ft  \n",
    "\n",
    "\n",
    "\n",
    "\n",
    "\n",
    "\n",
    "\n",
    "\n",
    "\n",
    "\n",
    "\n",
    "\n",
    "\n",
    "\n",
    "\n",
    "\n",
    "\n",
    "\n",
    "\n",
    "\n",
    "\n",
    "\n",
    "\n",
    "\n",
    "\n",
    "\n",
    "11) TotalBsmtSF: Total Basement Sq.Ft \n",
    "\n",
    "\n",
    "\n",
    "\n",
    "\n",
    "\n",
    "\n",
    "\n",
    "\n",
    "\n",
    "\n",
    "\n",
    "\n",
    "\n",
    "\n",
    "\n",
    "\n",
    "\n",
    "\n",
    "12) age: Age of the House  \n",
    "\n",
    "\n",
    "\n",
    "\n",
    "\n",
    "\n",
    "\n",
    "\n",
    "\n",
    "\n",
    "\n",
    "\n",
    "\n",
    "\n",
    "\n",
    "\n",
    "13) YearBuilt: Year the house was built    \n",
    "\n",
    "\n",
    "\n",
    "\n",
    "\n",
    "\n",
    "\n",
    "\n",
    "\n",
    "\n",
    "\n",
    "\n",
    "\n",
    "\n",
    "\n",
    "\n",
    "\n",
    "\n",
    "\n",
    "\n",
    "\n",
    "14) Fireplaces: Total Number of Fireplaces present \n",
    "\n",
    "\n",
    "\n",
    "\n",
    "\n",
    "\n",
    "15) GarageYrBlt: Year the Garage was built  \n",
    "\n",
    "\n",
    "\n",
    "\n",
    "\n",
    "\n",
    "\n",
    "\n",
    "\n",
    "\n",
    "\n",
    "\n",
    "\n",
    "\n",
    "\n",
    "16) MasVnrArea: Mason Veneer Area   \n",
    "\n",
    "\n",
    "\n",
    "\n",
    "\n",
    "\n",
    "\n",
    "\n",
    "\n",
    "\n",
    "\n",
    "\n",
    "\n",
    "\n",
    "\n",
    "\n",
    "\n",
    "\n",
    "\n",
    "\n",
    "\n",
    "\n",
    "\n",
    "\n",
    "\n",
    "17) LotArea: Area of the Lot  \n",
    "\n",
    "\n",
    "\n",
    "\n",
    "\n",
    "\n",
    "\n",
    "\n",
    "\n",
    "\n",
    "\n",
    "\n",
    "18) X2ndFlrSF: Second Floor Sq.Ft                                                                                                                                  \n",
    "\n",
    "\n",
    "\n",
    "\n",
    "\n",
    "\n",
    "\n",
    "\n",
    "\n",
    "\n",
    "\n",
    "\n",
    "19) BedroomAbvGr: Total Number of Bedrooms above ground \n",
    "\n",
    "\n",
    "\n",
    "\n",
    "\n",
    "\n",
    "\n",
    "\n",
    "\n",
    "\n",
    "\n",
    "20) BsmtFinSF1 : Finished Basement Sq.Ft    \n",
    "\n",
    "\n",
    "\n",
    "\n",
    "\n",
    "\n",
    "\n",
    "\n",
    "\n",
    "\n",
    "\n",
    "\n",
    "21) HalfBath: Total number of half baths\n",
    "\n",
    "\n",
    "\n",
    "\n",
    "\n",
    "\n",
    "\n",
    "\n",
    "\n",
    "\n",
    "\n",
    "\n",
    "22) SalePrice: Sale Price of the house"
   ]
  },
  {
   "cell_type": "code",
   "execution_count": null,
   "metadata": {},
   "outputs": [],
   "source": [
    "#importing the libraries\n",
    "import numpy as np\n",
    "import pandas as pd\n",
    "import seaborn as sns\n",
    "import matplotlib.pyplot as plt\n",
    "from sklearn import preprocessing\n",
    "from sklearn.model_selection import train_test_split\n",
    "from sklearn.preprocessing import MinMaxScaler\n",
    "from sklearn.neighbors import KNeighborsRegressor\n",
    "from sklearn.linear_model import LinearRegression\n",
    "from sklearn.linear_model import Ridge\n",
    "from sklearn.linear_model import Lasso\n",
    "from sklearn import svm\n",
    "from sklearn.svm import SVR, LinearSVR\n",
    "from sklearn.preprocessing  import PolynomialFeatures\n",
    "from sklearn.model_selection import cross_val_score\n",
    "from sklearn.model_selection import GridSearchCV\n",
    "from sklearn.metrics import r2_score\n",
    "from sklearn.pipeline import make_pipeline\n",
    "from sklearn.tree import DecisionTreeRegressor\n",
    "\n",
    "import warnings\n",
    "warnings.filterwarnings(\"ignore\")"
   ]
  },
  {
   "cell_type": "code",
   "execution_count": null,
   "metadata": {},
   "outputs": [],
   "source": [
    "#reading the dataset\n",
    "df = pd.read_csv('SF_HousingPrice.csv')"
   ]
  },
  {
   "cell_type": "code",
   "execution_count": 3,
   "metadata": {},
   "outputs": [],
   "source": [
    "#setting Id as index to avoid an index label being created again\n",
    "df = df.set_index('Id')"
   ]
  },
  {
   "cell_type": "code",
   "execution_count": 4,
   "metadata": {},
   "outputs": [
    {
     "data": {
      "text/html": [
       "<div>\n",
       "<style scoped>\n",
       "    .dataframe tbody tr th:only-of-type {\n",
       "        vertical-align: middle;\n",
       "    }\n",
       "\n",
       "    .dataframe tbody tr th {\n",
       "        vertical-align: top;\n",
       "    }\n",
       "\n",
       "    .dataframe thead th {\n",
       "        text-align: right;\n",
       "    }\n",
       "</style>\n",
       "<table border=\"1\" class=\"dataframe\">\n",
       "  <thead>\n",
       "    <tr style=\"text-align: right;\">\n",
       "      <th></th>\n",
       "      <th>GrLivArea</th>\n",
       "      <th>Street</th>\n",
       "      <th>OverallQual</th>\n",
       "      <th>GarageCars</th>\n",
       "      <th>GarageArea</th>\n",
       "      <th>LandSlope</th>\n",
       "      <th>TotRmsAbvGrd</th>\n",
       "      <th>Utilities</th>\n",
       "      <th>FullBath</th>\n",
       "      <th>X1stFlrSF</th>\n",
       "      <th>...</th>\n",
       "      <th>YearBuilt</th>\n",
       "      <th>Fireplaces</th>\n",
       "      <th>GarageYrBlt</th>\n",
       "      <th>MasVnrArea</th>\n",
       "      <th>LotArea</th>\n",
       "      <th>X2ndFlrSF</th>\n",
       "      <th>BedroomAbvGr</th>\n",
       "      <th>BsmtFinSF1</th>\n",
       "      <th>HalfBath</th>\n",
       "      <th>SalePrice</th>\n",
       "    </tr>\n",
       "    <tr>\n",
       "      <th>Id</th>\n",
       "      <th></th>\n",
       "      <th></th>\n",
       "      <th></th>\n",
       "      <th></th>\n",
       "      <th></th>\n",
       "      <th></th>\n",
       "      <th></th>\n",
       "      <th></th>\n",
       "      <th></th>\n",
       "      <th></th>\n",
       "      <th></th>\n",
       "      <th></th>\n",
       "      <th></th>\n",
       "      <th></th>\n",
       "      <th></th>\n",
       "      <th></th>\n",
       "      <th></th>\n",
       "      <th></th>\n",
       "      <th></th>\n",
       "      <th></th>\n",
       "      <th></th>\n",
       "    </tr>\n",
       "  </thead>\n",
       "  <tbody>\n",
       "    <tr>\n",
       "      <td>1</td>\n",
       "      <td>1445</td>\n",
       "      <td>Pave</td>\n",
       "      <td>6</td>\n",
       "      <td>2.0</td>\n",
       "      <td>484.0</td>\n",
       "      <td>Gtl</td>\n",
       "      <td>6.0</td>\n",
       "      <td>AllPub</td>\n",
       "      <td>2.0</td>\n",
       "      <td>831.0</td>\n",
       "      <td>...</td>\n",
       "      <td>1900.0</td>\n",
       "      <td>0.0</td>\n",
       "      <td>1957.0</td>\n",
       "      <td>0.0</td>\n",
       "      <td>14235.0</td>\n",
       "      <td>614.0</td>\n",
       "      <td>3.0</td>\n",
       "      <td>0.0</td>\n",
       "      <td>0.0</td>\n",
       "      <td>184380.7391</td>\n",
       "    </tr>\n",
       "    <tr>\n",
       "      <td>2</td>\n",
       "      <td>965</td>\n",
       "      <td>Pave</td>\n",
       "      <td>5</td>\n",
       "      <td>2.0</td>\n",
       "      <td>580.0</td>\n",
       "      <td>Gtl</td>\n",
       "      <td>4.0</td>\n",
       "      <td>AllPub</td>\n",
       "      <td>1.0</td>\n",
       "      <td>965.0</td>\n",
       "      <td>...</td>\n",
       "      <td>1996.0</td>\n",
       "      <td>NaN</td>\n",
       "      <td>1998.0</td>\n",
       "      <td>0.0</td>\n",
       "      <td>11105.0</td>\n",
       "      <td>0.0</td>\n",
       "      <td>2.0</td>\n",
       "      <td>870.0</td>\n",
       "      <td>NaN</td>\n",
       "      <td>169364.4692</td>\n",
       "    </tr>\n",
       "    <tr>\n",
       "      <td>3</td>\n",
       "      <td>1692</td>\n",
       "      <td>Pave</td>\n",
       "      <td>7</td>\n",
       "      <td>2.0</td>\n",
       "      <td>513.0</td>\n",
       "      <td>Gtl</td>\n",
       "      <td>8.0</td>\n",
       "      <td>AllPub</td>\n",
       "      <td>2.0</td>\n",
       "      <td>892.0</td>\n",
       "      <td>...</td>\n",
       "      <td>1997.0</td>\n",
       "      <td>1.0</td>\n",
       "      <td>1997.0</td>\n",
       "      <td>0.0</td>\n",
       "      <td>9337.0</td>\n",
       "      <td>800.0</td>\n",
       "      <td>3.0</td>\n",
       "      <td>NaN</td>\n",
       "      <td>1.0</td>\n",
       "      <td>175846.1798</td>\n",
       "    </tr>\n",
       "    <tr>\n",
       "      <td>4</td>\n",
       "      <td>1026</td>\n",
       "      <td>Pave</td>\n",
       "      <td>5</td>\n",
       "      <td>1.0</td>\n",
       "      <td>308.0</td>\n",
       "      <td>Gtl</td>\n",
       "      <td>5.0</td>\n",
       "      <td>AllPub</td>\n",
       "      <td>1.0</td>\n",
       "      <td>1026.0</td>\n",
       "      <td>...</td>\n",
       "      <td>NaN</td>\n",
       "      <td>0.0</td>\n",
       "      <td>NaN</td>\n",
       "      <td>0.0</td>\n",
       "      <td>15240.0</td>\n",
       "      <td>0.0</td>\n",
       "      <td>3.0</td>\n",
       "      <td>198.0</td>\n",
       "      <td>NaN</td>\n",
       "      <td>189673.2953</td>\n",
       "    </tr>\n",
       "    <tr>\n",
       "      <td>5</td>\n",
       "      <td>876</td>\n",
       "      <td>Pave</td>\n",
       "      <td>5</td>\n",
       "      <td>2.0</td>\n",
       "      <td>484.0</td>\n",
       "      <td>Gtl</td>\n",
       "      <td>5.0</td>\n",
       "      <td>AllPub</td>\n",
       "      <td>1.0</td>\n",
       "      <td>876.0</td>\n",
       "      <td>...</td>\n",
       "      <td>NaN</td>\n",
       "      <td>0.0</td>\n",
       "      <td>1977.0</td>\n",
       "      <td>0.0</td>\n",
       "      <td>7480.0</td>\n",
       "      <td>0.0</td>\n",
       "      <td>3.0</td>\n",
       "      <td>480.0</td>\n",
       "      <td>0.0</td>\n",
       "      <td>174401.3177</td>\n",
       "    </tr>\n",
       "  </tbody>\n",
       "</table>\n",
       "<p>5 rows × 22 columns</p>\n",
       "</div>"
      ],
      "text/plain": [
       "    GrLivArea Street  OverallQual  GarageCars  GarageArea LandSlope  \\\n",
       "Id                                                                    \n",
       "1        1445   Pave            6         2.0       484.0       Gtl   \n",
       "2         965   Pave            5         2.0       580.0       Gtl   \n",
       "3        1692   Pave            7         2.0       513.0       Gtl   \n",
       "4        1026   Pave            5         1.0       308.0       Gtl   \n",
       "5         876   Pave            5         2.0       484.0       Gtl   \n",
       "\n",
       "    TotRmsAbvGrd Utilities  FullBath  X1stFlrSF  ...  YearBuilt  Fireplaces  \\\n",
       "Id                                               ...                          \n",
       "1            6.0    AllPub       2.0      831.0  ...     1900.0         0.0   \n",
       "2            4.0    AllPub       1.0      965.0  ...     1996.0         NaN   \n",
       "3            8.0    AllPub       2.0      892.0  ...     1997.0         1.0   \n",
       "4            5.0    AllPub       1.0     1026.0  ...        NaN         0.0   \n",
       "5            5.0    AllPub       1.0      876.0  ...        NaN         0.0   \n",
       "\n",
       "    GarageYrBlt  MasVnrArea  LotArea  X2ndFlrSF  BedroomAbvGr  BsmtFinSF1  \\\n",
       "Id                                                                          \n",
       "1        1957.0         0.0  14235.0      614.0           3.0         0.0   \n",
       "2        1998.0         0.0  11105.0        0.0           2.0       870.0   \n",
       "3        1997.0         0.0   9337.0      800.0           3.0         NaN   \n",
       "4           NaN         0.0  15240.0        0.0           3.0       198.0   \n",
       "5        1977.0         0.0   7480.0        0.0           3.0       480.0   \n",
       "\n",
       "    HalfBath    SalePrice  \n",
       "Id                         \n",
       "1        0.0  184380.7391  \n",
       "2        NaN  169364.4692  \n",
       "3        1.0  175846.1798  \n",
       "4        NaN  189673.2953  \n",
       "5        0.0  174401.3177  \n",
       "\n",
       "[5 rows x 22 columns]"
      ]
     },
     "execution_count": 4,
     "metadata": {},
     "output_type": "execute_result"
    }
   ],
   "source": [
    "#reading the top 5 rows of the dataset\n",
    "df.head()"
   ]
  },
  {
   "cell_type": "code",
   "execution_count": 5,
   "metadata": {},
   "outputs": [
    {
     "data": {
      "text/plain": [
       "(1342, 22)"
      ]
     },
     "execution_count": 5,
     "metadata": {},
     "output_type": "execute_result"
    }
   ],
   "source": [
    "#checking the shape of the dataset\n",
    "df.shape"
   ]
  },
  {
   "cell_type": "markdown",
   "metadata": {},
   "source": [
    "It has 1342 rows and 22 columns. This satisfies the data size pre-requisite."
   ]
  },
  {
   "cell_type": "code",
   "execution_count": 6,
   "metadata": {},
   "outputs": [
    {
     "data": {
      "text/plain": [
       "Index(['GrLivArea', 'Street', 'OverallQual', 'GarageCars', 'GarageArea',\n",
       "       'LandSlope', 'TotRmsAbvGrd', 'Utilities', 'FullBath', 'X1stFlrSF',\n",
       "       'TotalBsmtSF', 'age', 'YearBuilt', 'Fireplaces', 'GarageYrBlt',\n",
       "       'MasVnrArea', 'LotArea', 'X2ndFlrSF', 'BedroomAbvGr', 'BsmtFinSF1',\n",
       "       'HalfBath', 'SalePrice'],\n",
       "      dtype='object')"
      ]
     },
     "execution_count": 6,
     "metadata": {},
     "output_type": "execute_result"
    }
   ],
   "source": [
    "#checking the column names of the dataset\n",
    "df.columns"
   ]
  },
  {
   "cell_type": "code",
   "execution_count": 7,
   "metadata": {},
   "outputs": [
    {
     "data": {
      "text/html": [
       "<div>\n",
       "<style scoped>\n",
       "    .dataframe tbody tr th:only-of-type {\n",
       "        vertical-align: middle;\n",
       "    }\n",
       "\n",
       "    .dataframe tbody tr th {\n",
       "        vertical-align: top;\n",
       "    }\n",
       "\n",
       "    .dataframe thead th {\n",
       "        text-align: right;\n",
       "    }\n",
       "</style>\n",
       "<table border=\"1\" class=\"dataframe\">\n",
       "  <thead>\n",
       "    <tr style=\"text-align: right;\">\n",
       "      <th></th>\n",
       "      <th>count</th>\n",
       "      <th>mean</th>\n",
       "      <th>std</th>\n",
       "      <th>min</th>\n",
       "      <th>25%</th>\n",
       "      <th>50%</th>\n",
       "      <th>75%</th>\n",
       "      <th>max</th>\n",
       "    </tr>\n",
       "  </thead>\n",
       "  <tbody>\n",
       "    <tr>\n",
       "      <td>GrLivArea</td>\n",
       "      <td>1342.0</td>\n",
       "      <td>1487.920268</td>\n",
       "      <td>492.181031</td>\n",
       "      <td>407.0000</td>\n",
       "      <td>1112.000000</td>\n",
       "      <td>1430.0000</td>\n",
       "      <td>1728.000000</td>\n",
       "      <td>5095.0000</td>\n",
       "    </tr>\n",
       "    <tr>\n",
       "      <td>OverallQual</td>\n",
       "      <td>1342.0</td>\n",
       "      <td>6.090909</td>\n",
       "      <td>1.447286</td>\n",
       "      <td>1.0000</td>\n",
       "      <td>5.000000</td>\n",
       "      <td>6.0000</td>\n",
       "      <td>7.000000</td>\n",
       "      <td>10.0000</td>\n",
       "    </tr>\n",
       "    <tr>\n",
       "      <td>GarageCars</td>\n",
       "      <td>1248.0</td>\n",
       "      <td>1.776442</td>\n",
       "      <td>0.782029</td>\n",
       "      <td>0.0000</td>\n",
       "      <td>1.000000</td>\n",
       "      <td>2.0000</td>\n",
       "      <td>2.000000</td>\n",
       "      <td>5.0000</td>\n",
       "    </tr>\n",
       "    <tr>\n",
       "      <td>GarageArea</td>\n",
       "      <td>1248.0</td>\n",
       "      <td>474.211538</td>\n",
       "      <td>219.253257</td>\n",
       "      <td>0.0000</td>\n",
       "      <td>319.000000</td>\n",
       "      <td>480.0000</td>\n",
       "      <td>577.250000</td>\n",
       "      <td>1488.0000</td>\n",
       "    </tr>\n",
       "    <tr>\n",
       "      <td>TotRmsAbvGrd</td>\n",
       "      <td>1334.0</td>\n",
       "      <td>6.402549</td>\n",
       "      <td>1.505885</td>\n",
       "      <td>3.0000</td>\n",
       "      <td>5.000000</td>\n",
       "      <td>6.0000</td>\n",
       "      <td>7.000000</td>\n",
       "      <td>15.0000</td>\n",
       "    </tr>\n",
       "    <tr>\n",
       "      <td>FullBath</td>\n",
       "      <td>1248.0</td>\n",
       "      <td>1.580128</td>\n",
       "      <td>0.554913</td>\n",
       "      <td>0.0000</td>\n",
       "      <td>1.000000</td>\n",
       "      <td>2.0000</td>\n",
       "      <td>2.000000</td>\n",
       "      <td>4.0000</td>\n",
       "    </tr>\n",
       "    <tr>\n",
       "      <td>X1stFlrSF</td>\n",
       "      <td>1222.0</td>\n",
       "      <td>1158.031097</td>\n",
       "      <td>401.931584</td>\n",
       "      <td>407.0000</td>\n",
       "      <td>874.000000</td>\n",
       "      <td>1077.0000</td>\n",
       "      <td>1381.000000</td>\n",
       "      <td>5095.0000</td>\n",
       "    </tr>\n",
       "    <tr>\n",
       "      <td>TotalBsmtSF</td>\n",
       "      <td>1221.0</td>\n",
       "      <td>1048.490172</td>\n",
       "      <td>429.843383</td>\n",
       "      <td>0.0000</td>\n",
       "      <td>796.000000</td>\n",
       "      <td>990.0000</td>\n",
       "      <td>1312.000000</td>\n",
       "      <td>2660.0000</td>\n",
       "    </tr>\n",
       "    <tr>\n",
       "      <td>age</td>\n",
       "      <td>1248.0</td>\n",
       "      <td>35.504808</td>\n",
       "      <td>30.038040</td>\n",
       "      <td>-1.0000</td>\n",
       "      <td>7.000000</td>\n",
       "      <td>33.0000</td>\n",
       "      <td>53.000000</td>\n",
       "      <td>129.0000</td>\n",
       "    </tr>\n",
       "    <tr>\n",
       "      <td>YearBuilt</td>\n",
       "      <td>1160.0</td>\n",
       "      <td>1971.224138</td>\n",
       "      <td>30.425395</td>\n",
       "      <td>1879.0000</td>\n",
       "      <td>1953.000000</td>\n",
       "      <td>1973.0000</td>\n",
       "      <td>2001.000000</td>\n",
       "      <td>2009.0000</td>\n",
       "    </tr>\n",
       "    <tr>\n",
       "      <td>Fireplaces</td>\n",
       "      <td>1248.0</td>\n",
       "      <td>0.569712</td>\n",
       "      <td>0.641979</td>\n",
       "      <td>0.0000</td>\n",
       "      <td>0.000000</td>\n",
       "      <td>0.0000</td>\n",
       "      <td>1.000000</td>\n",
       "      <td>4.0000</td>\n",
       "    </tr>\n",
       "    <tr>\n",
       "      <td>GarageYrBlt</td>\n",
       "      <td>1248.0</td>\n",
       "      <td>1977.946314</td>\n",
       "      <td>25.753277</td>\n",
       "      <td>1895.0000</td>\n",
       "      <td>1961.000000</td>\n",
       "      <td>1979.0000</td>\n",
       "      <td>2001.000000</td>\n",
       "      <td>2207.0000</td>\n",
       "    </tr>\n",
       "    <tr>\n",
       "      <td>MasVnrArea</td>\n",
       "      <td>1246.0</td>\n",
       "      <td>99.745586</td>\n",
       "      <td>174.087649</td>\n",
       "      <td>0.0000</td>\n",
       "      <td>0.000000</td>\n",
       "      <td>0.0000</td>\n",
       "      <td>162.750000</td>\n",
       "      <td>1290.0000</td>\n",
       "    </tr>\n",
       "    <tr>\n",
       "      <td>LotArea</td>\n",
       "      <td>1239.0</td>\n",
       "      <td>9891.887006</td>\n",
       "      <td>5085.743240</td>\n",
       "      <td>1476.0000</td>\n",
       "      <td>7494.000000</td>\n",
       "      <td>9392.0000</td>\n",
       "      <td>11535.500000</td>\n",
       "      <td>56600.0000</td>\n",
       "    </tr>\n",
       "    <tr>\n",
       "      <td>X2ndFlrSF</td>\n",
       "      <td>1241.0</td>\n",
       "      <td>324.896052</td>\n",
       "      <td>425.890787</td>\n",
       "      <td>0.0000</td>\n",
       "      <td>0.000000</td>\n",
       "      <td>0.0000</td>\n",
       "      <td>672.000000</td>\n",
       "      <td>1862.0000</td>\n",
       "    </tr>\n",
       "    <tr>\n",
       "      <td>BedroomAbvGr</td>\n",
       "      <td>1247.0</td>\n",
       "      <td>2.866079</td>\n",
       "      <td>0.837827</td>\n",
       "      <td>0.0000</td>\n",
       "      <td>2.000000</td>\n",
       "      <td>3.0000</td>\n",
       "      <td>3.000000</td>\n",
       "      <td>6.0000</td>\n",
       "    </tr>\n",
       "    <tr>\n",
       "      <td>BsmtFinSF1</td>\n",
       "      <td>1248.0</td>\n",
       "      <td>435.832131</td>\n",
       "      <td>460.367235</td>\n",
       "      <td>0.0000</td>\n",
       "      <td>0.000000</td>\n",
       "      <td>343.0000</td>\n",
       "      <td>747.000000</td>\n",
       "      <td>4010.0000</td>\n",
       "    </tr>\n",
       "    <tr>\n",
       "      <td>HalfBath</td>\n",
       "      <td>1248.0</td>\n",
       "      <td>0.375000</td>\n",
       "      <td>0.503795</td>\n",
       "      <td>0.0000</td>\n",
       "      <td>0.000000</td>\n",
       "      <td>0.0000</td>\n",
       "      <td>1.000000</td>\n",
       "      <td>2.0000</td>\n",
       "    </tr>\n",
       "    <tr>\n",
       "      <td>SalePrice</td>\n",
       "      <td>1342.0</td>\n",
       "      <td>179715.216426</td>\n",
       "      <td>16586.086278</td>\n",
       "      <td>135751.3189</td>\n",
       "      <td>169613.301725</td>\n",
       "      <td>179740.5371</td>\n",
       "      <td>187239.539625</td>\n",
       "      <td>281643.9761</td>\n",
       "    </tr>\n",
       "  </tbody>\n",
       "</table>\n",
       "</div>"
      ],
      "text/plain": [
       "               count           mean           std          min            25%  \\\n",
       "GrLivArea     1342.0    1487.920268    492.181031     407.0000    1112.000000   \n",
       "OverallQual   1342.0       6.090909      1.447286       1.0000       5.000000   \n",
       "GarageCars    1248.0       1.776442      0.782029       0.0000       1.000000   \n",
       "GarageArea    1248.0     474.211538    219.253257       0.0000     319.000000   \n",
       "TotRmsAbvGrd  1334.0       6.402549      1.505885       3.0000       5.000000   \n",
       "FullBath      1248.0       1.580128      0.554913       0.0000       1.000000   \n",
       "X1stFlrSF     1222.0    1158.031097    401.931584     407.0000     874.000000   \n",
       "TotalBsmtSF   1221.0    1048.490172    429.843383       0.0000     796.000000   \n",
       "age           1248.0      35.504808     30.038040      -1.0000       7.000000   \n",
       "YearBuilt     1160.0    1971.224138     30.425395    1879.0000    1953.000000   \n",
       "Fireplaces    1248.0       0.569712      0.641979       0.0000       0.000000   \n",
       "GarageYrBlt   1248.0    1977.946314     25.753277    1895.0000    1961.000000   \n",
       "MasVnrArea    1246.0      99.745586    174.087649       0.0000       0.000000   \n",
       "LotArea       1239.0    9891.887006   5085.743240    1476.0000    7494.000000   \n",
       "X2ndFlrSF     1241.0     324.896052    425.890787       0.0000       0.000000   \n",
       "BedroomAbvGr  1247.0       2.866079      0.837827       0.0000       2.000000   \n",
       "BsmtFinSF1    1248.0     435.832131    460.367235       0.0000       0.000000   \n",
       "HalfBath      1248.0       0.375000      0.503795       0.0000       0.000000   \n",
       "SalePrice     1342.0  179715.216426  16586.086278  135751.3189  169613.301725   \n",
       "\n",
       "                      50%            75%          max  \n",
       "GrLivArea       1430.0000    1728.000000    5095.0000  \n",
       "OverallQual        6.0000       7.000000      10.0000  \n",
       "GarageCars         2.0000       2.000000       5.0000  \n",
       "GarageArea       480.0000     577.250000    1488.0000  \n",
       "TotRmsAbvGrd       6.0000       7.000000      15.0000  \n",
       "FullBath           2.0000       2.000000       4.0000  \n",
       "X1stFlrSF       1077.0000    1381.000000    5095.0000  \n",
       "TotalBsmtSF      990.0000    1312.000000    2660.0000  \n",
       "age               33.0000      53.000000     129.0000  \n",
       "YearBuilt       1973.0000    2001.000000    2009.0000  \n",
       "Fireplaces         0.0000       1.000000       4.0000  \n",
       "GarageYrBlt     1979.0000    2001.000000    2207.0000  \n",
       "MasVnrArea         0.0000     162.750000    1290.0000  \n",
       "LotArea         9392.0000   11535.500000   56600.0000  \n",
       "X2ndFlrSF          0.0000     672.000000    1862.0000  \n",
       "BedroomAbvGr       3.0000       3.000000       6.0000  \n",
       "BsmtFinSF1       343.0000     747.000000    4010.0000  \n",
       "HalfBath           0.0000       1.000000       2.0000  \n",
       "SalePrice     179740.5371  187239.539625  281643.9761  "
      ]
     },
     "execution_count": 7,
     "metadata": {},
     "output_type": "execute_result"
    }
   ],
   "source": [
    "#checking the min,max,count,std dev of the dataset\n",
    "df.describe().T"
   ]
  },
  {
   "cell_type": "code",
   "execution_count": 8,
   "metadata": {},
   "outputs": [
    {
     "data": {
      "text/plain": [
       "YearBuilt       182\n",
       "TotalBsmtSF     121\n",
       "X1stFlrSF       120\n",
       "LotArea         103\n",
       "X2ndFlrSF       101\n",
       "MasVnrArea       96\n",
       "BedroomAbvGr     95\n",
       "BsmtFinSF1       94\n",
       "GarageYrBlt      94\n",
       "Fireplaces       94\n",
       "GarageCars       94\n",
       "age              94\n",
       "HalfBath         94\n",
       "FullBath         94\n",
       "GarageArea       94\n",
       "dtype: int64"
      ]
     },
     "execution_count": 8,
     "metadata": {},
     "output_type": "execute_result"
    }
   ],
   "source": [
    "#checking the top null values of the dataset\n",
    "df.isnull().sum().sort_values(ascending = False).head(15)"
   ]
  },
  {
   "cell_type": "code",
   "execution_count": 9,
   "metadata": {},
   "outputs": [
    {
     "data": {
      "text/html": [
       "<div>\n",
       "<style scoped>\n",
       "    .dataframe tbody tr th:only-of-type {\n",
       "        vertical-align: middle;\n",
       "    }\n",
       "\n",
       "    .dataframe tbody tr th {\n",
       "        vertical-align: top;\n",
       "    }\n",
       "\n",
       "    .dataframe thead th {\n",
       "        text-align: right;\n",
       "    }\n",
       "</style>\n",
       "<table border=\"1\" class=\"dataframe\">\n",
       "  <thead>\n",
       "    <tr style=\"text-align: right;\">\n",
       "      <th></th>\n",
       "      <th>Total_count</th>\n",
       "      <th>Percent</th>\n",
       "    </tr>\n",
       "  </thead>\n",
       "  <tbody>\n",
       "    <tr>\n",
       "      <td>YearBuilt</td>\n",
       "      <td>182</td>\n",
       "      <td>0.135618</td>\n",
       "    </tr>\n",
       "    <tr>\n",
       "      <td>TotalBsmtSF</td>\n",
       "      <td>121</td>\n",
       "      <td>0.090164</td>\n",
       "    </tr>\n",
       "    <tr>\n",
       "      <td>X1stFlrSF</td>\n",
       "      <td>120</td>\n",
       "      <td>0.089419</td>\n",
       "    </tr>\n",
       "    <tr>\n",
       "      <td>LotArea</td>\n",
       "      <td>103</td>\n",
       "      <td>0.076751</td>\n",
       "    </tr>\n",
       "    <tr>\n",
       "      <td>X2ndFlrSF</td>\n",
       "      <td>101</td>\n",
       "      <td>0.075261</td>\n",
       "    </tr>\n",
       "    <tr>\n",
       "      <td>MasVnrArea</td>\n",
       "      <td>96</td>\n",
       "      <td>0.071535</td>\n",
       "    </tr>\n",
       "    <tr>\n",
       "      <td>BedroomAbvGr</td>\n",
       "      <td>95</td>\n",
       "      <td>0.070790</td>\n",
       "    </tr>\n",
       "    <tr>\n",
       "      <td>BsmtFinSF1</td>\n",
       "      <td>94</td>\n",
       "      <td>0.070045</td>\n",
       "    </tr>\n",
       "    <tr>\n",
       "      <td>GarageYrBlt</td>\n",
       "      <td>94</td>\n",
       "      <td>0.070045</td>\n",
       "    </tr>\n",
       "    <tr>\n",
       "      <td>Fireplaces</td>\n",
       "      <td>94</td>\n",
       "      <td>0.070045</td>\n",
       "    </tr>\n",
       "    <tr>\n",
       "      <td>GarageCars</td>\n",
       "      <td>94</td>\n",
       "      <td>0.070045</td>\n",
       "    </tr>\n",
       "    <tr>\n",
       "      <td>age</td>\n",
       "      <td>94</td>\n",
       "      <td>0.070045</td>\n",
       "    </tr>\n",
       "    <tr>\n",
       "      <td>HalfBath</td>\n",
       "      <td>94</td>\n",
       "      <td>0.070045</td>\n",
       "    </tr>\n",
       "    <tr>\n",
       "      <td>FullBath</td>\n",
       "      <td>94</td>\n",
       "      <td>0.070045</td>\n",
       "    </tr>\n",
       "    <tr>\n",
       "      <td>GarageArea</td>\n",
       "      <td>94</td>\n",
       "      <td>0.070045</td>\n",
       "    </tr>\n",
       "  </tbody>\n",
       "</table>\n",
       "</div>"
      ],
      "text/plain": [
       "              Total_count   Percent\n",
       "YearBuilt             182  0.135618\n",
       "TotalBsmtSF           121  0.090164\n",
       "X1stFlrSF             120  0.089419\n",
       "LotArea               103  0.076751\n",
       "X2ndFlrSF             101  0.075261\n",
       "MasVnrArea             96  0.071535\n",
       "BedroomAbvGr           95  0.070790\n",
       "BsmtFinSF1             94  0.070045\n",
       "GarageYrBlt            94  0.070045\n",
       "Fireplaces             94  0.070045\n",
       "GarageCars             94  0.070045\n",
       "age                    94  0.070045\n",
       "HalfBath               94  0.070045\n",
       "FullBath               94  0.070045\n",
       "GarageArea             94  0.070045"
      ]
     },
     "execution_count": 9,
     "metadata": {},
     "output_type": "execute_result"
    }
   ],
   "source": [
    "#checking the percentage of missing values in the dataset for each column\n",
    "missing_values= df.isnull().sum().sort_values(ascending=False)\n",
    "total_percent = (df.isnull().sum()/df.isnull().count()).sort_values(ascending=False)\n",
    "total_missing_values_percent2 = pd.concat([missing_values,total_percent],axis=1,keys=['Total_count','Percent'])\n",
    "total_missing_values_percent2.head(15)"
   ]
  },
  {
   "cell_type": "markdown",
   "metadata": {},
   "source": [
    "There are more 94 null values in each column which satisfies the pre-requisite of the dataset containing 5% missing data"
   ]
  },
  {
   "cell_type": "code",
   "execution_count": 10,
   "metadata": {},
   "outputs": [
    {
     "data": {
      "text/plain": [
       "GrLivArea         int64\n",
       "Street           object\n",
       "OverallQual       int64\n",
       "GarageCars      float64\n",
       "GarageArea      float64\n",
       "LandSlope        object\n",
       "TotRmsAbvGrd    float64\n",
       "Utilities        object\n",
       "FullBath        float64\n",
       "X1stFlrSF       float64\n",
       "TotalBsmtSF     float64\n",
       "age             float64\n",
       "YearBuilt       float64\n",
       "Fireplaces      float64\n",
       "GarageYrBlt     float64\n",
       "MasVnrArea      float64\n",
       "LotArea         float64\n",
       "X2ndFlrSF       float64\n",
       "BedroomAbvGr    float64\n",
       "BsmtFinSF1      float64\n",
       "HalfBath        float64\n",
       "SalePrice       float64\n",
       "dtype: object"
      ]
     },
     "execution_count": 10,
     "metadata": {},
     "output_type": "execute_result"
    }
   ],
   "source": [
    "#checking the datatype of each column\n",
    "df.dtypes"
   ]
  },
  {
   "cell_type": "markdown",
   "metadata": {},
   "source": [
    "There are atleast three columns that are categorical (Eg: Street, LandSlope, Utilities) which satisfy the required criteria."
   ]
  },
  {
   "cell_type": "code",
   "execution_count": 11,
   "metadata": {
    "scrolled": false
   },
   "outputs": [
    {
     "data": {
      "text/plain": [
       "array([[<matplotlib.axes._subplots.AxesSubplot object at 0x000001E60AA50FC8>,\n",
       "        <matplotlib.axes._subplots.AxesSubplot object at 0x000001E60AD40788>,\n",
       "        <matplotlib.axes._subplots.AxesSubplot object at 0x000001E60AD79448>,\n",
       "        <matplotlib.axes._subplots.AxesSubplot object at 0x000001E60ADB34C8>],\n",
       "       [<matplotlib.axes._subplots.AxesSubplot object at 0x000001E60ADEC5C8>,\n",
       "        <matplotlib.axes._subplots.AxesSubplot object at 0x000001E60AE24708>,\n",
       "        <matplotlib.axes._subplots.AxesSubplot object at 0x000001E60AE5C808>,\n",
       "        <matplotlib.axes._subplots.AxesSubplot object at 0x000001E60AE95908>],\n",
       "       [<matplotlib.axes._subplots.AxesSubplot object at 0x000001E60AE9F508>,\n",
       "        <matplotlib.axes._subplots.AxesSubplot object at 0x000001E60AED8688>,\n",
       "        <matplotlib.axes._subplots.AxesSubplot object at 0x000001E60AF3CBC8>,\n",
       "        <matplotlib.axes._subplots.AxesSubplot object at 0x000001E60AF74D08>],\n",
       "       [<matplotlib.axes._subplots.AxesSubplot object at 0x000001E60AFACE08>,\n",
       "        <matplotlib.axes._subplots.AxesSubplot object at 0x000001E60AFE4EC8>,\n",
       "        <matplotlib.axes._subplots.AxesSubplot object at 0x000001E60B022048>,\n",
       "        <matplotlib.axes._subplots.AxesSubplot object at 0x000001E60B0B9148>],\n",
       "       [<matplotlib.axes._subplots.AxesSubplot object at 0x000001E60B0F1248>,\n",
       "        <matplotlib.axes._subplots.AxesSubplot object at 0x000001E60B12B388>,\n",
       "        <matplotlib.axes._subplots.AxesSubplot object at 0x000001E60B163488>,\n",
       "        <matplotlib.axes._subplots.AxesSubplot object at 0x000001E60B19A508>]],\n",
       "      dtype=object)"
      ]
     },
     "execution_count": 11,
     "metadata": {},
     "output_type": "execute_result"
    },
    {
     "data": {
      "image/png": "[encoded data removed]",
      "text/plain": [
       "<Figure size 1440x1440 with 20 Axes>"
      ]
     },
     "metadata": {
      "needs_background": "light"
     },
     "output_type": "display_data"
    }
   ],
   "source": [
    "#checking the histogram to note the distribution of the columns in dataset\n",
    "df.hist(bins = 20 , figsize= (20,20))"
   ]
  },
  {
   "cell_type": "code",
   "execution_count": 12,
   "metadata": {},
   "outputs": [
    {
     "data": {
      "text/plain": [
       "Index(['GrLivArea', 'Street', 'OverallQual', 'GarageCars', 'GarageArea',\n",
       "       'LandSlope', 'TotRmsAbvGrd', 'Utilities', 'FullBath', 'X1stFlrSF',\n",
       "       'TotalBsmtSF', 'age', 'YearBuilt', 'Fireplaces', 'GarageYrBlt',\n",
       "       'MasVnrArea', 'LotArea', 'X2ndFlrSF', 'BedroomAbvGr', 'BsmtFinSF1',\n",
       "       'HalfBath', 'SalePrice'],\n",
       "      dtype='object')"
      ]
     },
     "execution_count": 12,
     "metadata": {},
     "output_type": "execute_result"
    }
   ],
   "source": [
    "df.columns"
   ]
  },
  {
   "cell_type": "code",
   "execution_count": 13,
   "metadata": {
    "scrolled": false
   },
   "outputs": [
    {
     "data": {
      "image/png": "[encoded data removed]",
      "text/plain": [
       "<Figure size 432x288 with 1 Axes>"
      ]
     },
     "metadata": {
      "needs_background": "light"
     },
     "output_type": "display_data"
    }
   ],
   "source": [
    "sns.distplot(df['SalePrice'])\n",
    "plt.show()"
   ]
  },
  {
   "cell_type": "code",
   "execution_count": 14,
   "metadata": {},
   "outputs": [],
   "source": [
    "#Imputing median to fill the null values in the dataset where data distribution is skewed\n",
    "\n",
    "df['TotalBsmtSF'] = df['TotalBsmtSF'].fillna((df['TotalBsmtSF'].median()))\n",
    "df['X1stFlrSF'] = df['X1stFlrSF'].fillna((df['X1stFlrSF'].median()))\n",
    "df['X2ndFlrSF'] = df['X2ndFlrSF'].fillna((df['X2ndFlrSF'].median()))\n",
    "df['TotRmsAbvGrd'] = df['TotRmsAbvGrd'].fillna((df['TotRmsAbvGrd'].median()))\n",
    "df['LotArea'] = df['LotArea'].fillna((df['LotArea'].median()))\n",
    "df['MasVnrArea'] = df['MasVnrArea'].fillna((df['MasVnrArea'].median()))\n",
    "df['YearBuilt'] = df['YearBuilt'].fillna((df['YearBuilt'].median()))\n",
    "df['BsmtFinSF1'] = df['BsmtFinSF1'].fillna((df['BsmtFinSF1'].median()))\n",
    "df['GarageCars'] = df['GarageCars'].fillna((df['GarageCars'].median()))\n",
    "df['HalfBath'] = df['HalfBath'].fillna((df['HalfBath'].median()))\n",
    "df['age'] = df['age'].fillna((df['age'].median()))\n",
    "df['Fireplaces'] = df['Fireplaces'].fillna((df['Fireplaces'].median()))\n",
    "df['GarageYrBlt'] = df['GarageYrBlt'].fillna((df['GarageYrBlt'].median()))"
   ]
  },
  {
   "cell_type": "code",
   "execution_count": 15,
   "metadata": {},
   "outputs": [],
   "source": [
    "#Imputing mean to fill the null values in the dataset where data distribution is skewed\n",
    "\n",
    "df['BedroomAbvGr'] = df['BedroomAbvGr'].fillna((df['BedroomAbvGr'].mean()))\n",
    "df['FullBath'] = df['FullBath'].fillna((df['FullBath'].mean()))\n",
    "df['GarageArea'] = df['GarageArea'].fillna((df['GarageArea'].mean()))"
   ]
  },
  {
   "cell_type": "code",
   "execution_count": 16,
   "metadata": {},
   "outputs": [
    {
     "data": {
      "text/plain": [
       "SalePrice       0\n",
       "HalfBath        0\n",
       "Street          0\n",
       "OverallQual     0\n",
       "GarageCars      0\n",
       "GarageArea      0\n",
       "LandSlope       0\n",
       "TotRmsAbvGrd    0\n",
       "Utilities       0\n",
       "FullBath        0\n",
       "X1stFlrSF       0\n",
       "TotalBsmtSF     0\n",
       "age             0\n",
       "YearBuilt       0\n",
       "Fireplaces      0\n",
       "GarageYrBlt     0\n",
       "MasVnrArea      0\n",
       "LotArea         0\n",
       "X2ndFlrSF       0\n",
       "BedroomAbvGr    0\n",
       "BsmtFinSF1      0\n",
       "GrLivArea       0\n",
       "dtype: int64"
      ]
     },
     "execution_count": 16,
     "metadata": {},
     "output_type": "execute_result"
    }
   ],
   "source": [
    "#checking the null values after imputation\n",
    "df.isnull().sum().sort_values(ascending = False)"
   ]
  },
  {
   "cell_type": "code",
   "execution_count": 17,
   "metadata": {
    "scrolled": false
   },
   "outputs": [
    {
     "data": {
      "image/png": "[encoded data removed]",
      "text/plain": [
       "<Figure size 792x504 with 2 Axes>"
      ]
     },
     "metadata": {
      "needs_background": "light"
     },
     "output_type": "display_data"
    }
   ],
   "source": [
    "#plotting the same corr in a heatmap\n",
    "#Based on the graph we can see that garage cars is highly correlated to grage area which is justified\n",
    "cor=df.corr()\n",
    "plt.subplots(figsize=(11,7))\n",
    "sns.heatmap(cor,annot=True, cmap = 'coolwarm')\n",
    "cor_target = abs(cor[\"SalePrice\"])"
   ]
  },
  {
   "cell_type": "code",
   "execution_count": 18,
   "metadata": {},
   "outputs": [
    {
     "data": {
      "text/plain": [
       "Pave    1336\n",
       "Grvl       6\n",
       "Name: Street, dtype: int64"
      ]
     },
     "execution_count": 18,
     "metadata": {},
     "output_type": "execute_result"
    }
   ],
   "source": [
    "#now checking the distribution of categorical variable \"Street\"\n",
    "df['Street'].value_counts()"
   ]
  },
  {
   "cell_type": "code",
   "execution_count": 19,
   "metadata": {},
   "outputs": [
    {
     "data": {
      "text/plain": [
       "Gtl    1286\n",
       "Mod      53\n",
       "Sev       3\n",
       "Name: LandSlope, dtype: int64"
      ]
     },
     "execution_count": 19,
     "metadata": {},
     "output_type": "execute_result"
    }
   ],
   "source": [
    "#now checking the distribution of categorical variable \"LandSlope\"\n",
    "df['LandSlope'].value_counts()"
   ]
  },
  {
   "cell_type": "code",
   "execution_count": 20,
   "metadata": {},
   "outputs": [
    {
     "data": {
      "text/plain": [
       "AllPub    1325\n",
       "NoSeWa      17\n",
       "Name: Utilities, dtype: int64"
      ]
     },
     "execution_count": 20,
     "metadata": {},
     "output_type": "execute_result"
    }
   ],
   "source": [
    "#now checking the distribution of categorical variable \"Utilities\"\n",
    "df['Utilities'].value_counts()"
   ]
  },
  {
   "cell_type": "code",
   "execution_count": 21,
   "metadata": {},
   "outputs": [],
   "source": [
    "#Renaming columns to obtain more clarity and idea\n",
    "df = df.rename(columns={\"GrLivArea\": \"GroundLivingArea\",\n",
    "                        \"TotRmsAbvGrd\": \"RoomsAboveGround\",\n",
    "                        \"X1stFlrSF\": \"1stFloorSqFt\",\n",
    "                        \"X2ndFlrSF\": \"2nd FloorSqFt\",\n",
    "                        \"TotalBsmtSF\": \"BasementSqFt\", \n",
    "                        \"SalePrice\" : \"Price\",\n",
    "                        \"GarageYrBlt\":\"GarageBuiltYear\",\n",
    "                        \"MasVnrArea\":\"MasonryVeneerArea\",\n",
    "                        \"BsmtFinSF1\": \"BasementFinalSqFt\"})"
   ]
  },
  {
   "cell_type": "code",
   "execution_count": 22,
   "metadata": {},
   "outputs": [
    {
     "data": {
      "text/plain": [
       "Index(['GroundLivingArea', 'Street', 'OverallQual', 'GarageCars', 'GarageArea',\n",
       "       'LandSlope', 'RoomsAboveGround', 'Utilities', 'FullBath',\n",
       "       '1stFloorSqFt', 'BasementSqFt', 'age', 'YearBuilt', 'Fireplaces',\n",
       "       'GarageBuiltYear', 'MasonryVeneerArea', 'LotArea', '2nd FloorSqFt',\n",
       "       'BedroomAbvGr', 'BasementFinalSqFt', 'HalfBath', 'Price'],\n",
       "      dtype='object')"
      ]
     },
     "execution_count": 22,
     "metadata": {},
     "output_type": "execute_result"
    }
   ],
   "source": [
    "#reading the column names again to check if renaming has worked properly\n",
    "df.columns"
   ]
  },
  {
   "cell_type": "code",
   "execution_count": 23,
   "metadata": {},
   "outputs": [],
   "source": [
    "#using one hot encoder for the categorical column \"LandSlope\"\n",
    "one_hot_LandSlope = pd.get_dummies(df.LandSlope)"
   ]
  },
  {
   "cell_type": "code",
   "execution_count": 24,
   "metadata": {},
   "outputs": [],
   "source": [
    "#dropping the column LandSlope and concatenating the one_hot_LandSlope to the dataset\n",
    "df.drop(['LandSlope'],axis=1,inplace =True)\n",
    "df = pd.concat([df, one_hot_LandSlope], axis=1)"
   ]
  },
  {
   "cell_type": "code",
   "execution_count": 25,
   "metadata": {},
   "outputs": [],
   "source": [
    "#Label encoding 0's and 1's to ordinal values\n",
    "df['Utilities'] = df['Utilities'].map( {'AllPub': 1, 'NoSeWa': 0} ).astype(int)\n",
    "df['Street'] = df['Street'].map( {'Pave': 1, 'Grvl': 0} ).astype(int)"
   ]
  },
  {
   "cell_type": "code",
   "execution_count": 26,
   "metadata": {},
   "outputs": [],
   "source": [
    "#converting the target variable or prediction variable to integer\n",
    "df['Price'] = df['Price'].astype(int)"
   ]
  },
  {
   "cell_type": "code",
   "execution_count": 27,
   "metadata": {},
   "outputs": [],
   "source": [
    "#Removing the target variable and reassigning it to variable y known as target set\n",
    "X=df.drop('Price',axis=1).values\n",
    "y=df['Price']"
   ]
  },
  {
   "cell_type": "code",
   "execution_count": 28,
   "metadata": {},
   "outputs": [],
   "source": [
    "#creating the formal X and y split\n",
    "X_train_orig, X_test_orig, y_train, y_test = train_test_split(X,y, test_size = 0.2, random_state=0)"
   ]
  },
  {
   "cell_type": "code",
   "execution_count": 29,
   "metadata": {},
   "outputs": [],
   "source": [
    "#scaling and transform of X_train and X_test\n",
    "scaler= MinMaxScaler()  #this scaler helps handle outliers better\n",
    "scaler.fit(X_train_orig)\n",
    "X_train= scaler.transform(X_train_orig)\n",
    "X_test= scaler.transform(X_test_orig)\n",
    "\n",
    "#Scores\n",
    "train_score=[]\n",
    "test_score=[]"
   ]
  },
  {
   "cell_type": "markdown",
   "metadata": {},
   "source": [
    "# KNN Regressor"
   ]
  },
  {
   "cell_type": "code",
   "execution_count": 30,
   "metadata": {},
   "outputs": [
    {
     "name": "stdout",
     "output_type": "stream",
     "text": [
      "Fitting 5 folds for each of 24 candidates, totalling 120 fits\n"
     ]
    },
    {
     "name": "stderr",
     "output_type": "stream",
     "text": [
      "[Parallel(n_jobs=10)]: Using backend LokyBackend with 10 concurrent workers.\n",
      "[Parallel(n_jobs=10)]: Done  30 tasks      | elapsed:    9.2s\n"
     ]
    },
    {
     "name": "stdout",
     "output_type": "stream",
     "text": [
      "Training score: 0.8407802239727801\n",
      "Best cross-validation score: 0.6133750298772974\n",
      "Best parameters: {'metric': 'manhattan', 'n_neighbors': 6, 'weights': 'distance'}\n"
     ]
    },
    {
     "name": "stderr",
     "output_type": "stream",
     "text": [
      "[Parallel(n_jobs=10)]: Done 120 out of 120 | elapsed:   13.6s finished\n"
     ]
    }
   ],
   "source": [
    "#running K Neighbors Regressor for variety of neighbors\n",
    "\n",
    "param_grid5 = {'n_neighbors': [5,6,7,8,9,10],'weights': ['uniform','distance'],'metric': ['euclidean','manhattan']}\n",
    "kn=GridSearchCV(KNeighborsRegressor(), param_grid5, verbose=1,cv=5,n_jobs=10,return_train_score=True)\n",
    "kn.fit(X_train,y_train)\n",
    "train=kn.cv_results_['mean_train_score']\n",
    "print(\"Training score: {}\".format(train.mean()))\n",
    "print(\"Best cross-validation score: {}\".format(kn.best_score_))\n",
    "print(\"Best parameters: {}\".format(kn.best_params_))\n"
   ]
  },
  {
   "cell_type": "code",
   "execution_count": 31,
   "metadata": {},
   "outputs": [
    {
     "name": "stdout",
     "output_type": "stream",
     "text": [
      "train_score for KNeigbors Regressor: 1.0\n",
      "test_score for KNeigbors Regressor: 0.5994155698087669\n"
     ]
    }
   ],
   "source": [
    "#General Model and we are fitting the 7 neigbors as best from the above run\n",
    "knn=KNeighborsRegressor(n_neighbors=6, weights = 'distance', metric = 'manhattan')\n",
    "knn_model=knn.fit(X_train,y_train)\n",
    "\n",
    "print(\"train_score for KNeigbors Regressor:\",knn_model.score(X_train,y_train))\n",
    "print(\"test_score for KNeigbors Regressor:\", knn_model.score(X_test,y_test))"
   ]
  },
  {
   "cell_type": "code",
   "execution_count": 32,
   "metadata": {},
   "outputs": [
    {
     "name": "stdout",
     "output_type": "stream",
     "text": [
      "Accuracy: 61.11 %\n"
     ]
    }
   ],
   "source": [
    "#calculating the accuracies\n",
    "knn_accuracies = cross_val_score(estimator = knn_model, X = X_train, y = y_train, cv = 10)\n",
    "print(\"Accuracy: {:.2f} %\".format(knn_accuracies.mean()*100))"
   ]
  },
  {
   "cell_type": "code",
   "execution_count": 33,
   "metadata": {},
   "outputs": [
    {
     "data": {
      "image/png": "[encoded data removed]",
      "text/plain": [
       "<Figure size 720x720 with 1 Axes>"
      ]
     },
     "metadata": {
      "needs_background": "light"
     },
     "output_type": "display_data"
    }
   ],
   "source": [
    "plt.figure(figsize=(10,10))\n",
    "training_accuracy = []\n",
    "test_accuracy = []\n",
    "# try n_neighbors from 1 to 10\n",
    "neighbors_settings = range(1, 13)\n",
    "for n_neighbors in neighbors_settings:\n",
    "    # build the model\n",
    "    regressor2 = KNeighborsRegressor(n_neighbors=n_neighbors)\n",
    "    regressor2.fit(X_train, y_train)\n",
    "    # record training set accuracy\n",
    "    training_accuracy.append(regressor2.score(X_train, y_train))\n",
    "    # record test set accuracy\n",
    "    test_accuracy.append(regressor2.score(X_test, y_test))\n",
    "#plotting train and test scores for n_neighbors from 1 to 10\n",
    "plt.plot(neighbors_settings, training_accuracy, label=\"training accuracy\")\n",
    "plt.plot(neighbors_settings, test_accuracy, label=\"test accuracy\")\n",
    "plt.ylabel(\"Accuracy\")\n",
    "plt.xlabel(\"n_neighbors\")\n",
    "plt.title(\"KNN Train vs Test Accuracy\")\n",
    "plt.legend()\n",
    "plt.savefig('knn_compare_model')"
   ]
  },
  {
   "cell_type": "markdown",
   "metadata": {},
   "source": [
    "# Linear Regression"
   ]
  },
  {
   "cell_type": "code",
   "execution_count": 34,
   "metadata": {},
   "outputs": [
    {
     "name": "stdout",
     "output_type": "stream",
     "text": [
      "train_score for Linear Regression: 0.9271573250331037\n",
      "test_score: for Linear Regression 0.898059304328379\n"
     ]
    }
   ],
   "source": [
    "#Since this model has no scaling parameter, we directly apply grid search\n",
    "\n",
    "lreg = LinearRegression()\n",
    "\n",
    "#Scaled train test\n",
    "l_model=lreg.fit(X_train, y_train)\n",
    "train_linear=round(l_model.score(X_train, y_train),2)\n",
    "test_linear=round(l_model.score(X_test, y_test),2)\n",
    "\n",
    "\n",
    "print(\"train_score for Linear Regression:\",l_model.score(X_train, y_train))\n",
    "print(\"test_score: for Linear Regression\", l_model.score(X_test, y_test))"
   ]
  },
  {
   "cell_type": "code",
   "execution_count": 35,
   "metadata": {},
   "outputs": [
    {
     "name": "stdout",
     "output_type": "stream",
     "text": [
      "Accuracy: 91.45 %\n"
     ]
    }
   ],
   "source": [
    "#calculating the accuracies\n",
    "lg_accuracies = cross_val_score(estimator = l_model, X = X_train, y = y_train, cv = 10)\n",
    "print(\"Accuracy: {:.2f} %\".format(lg_accuracies.mean()*100))"
   ]
  },
  {
   "cell_type": "markdown",
   "metadata": {},
   "source": [
    "# Ridge Regression"
   ]
  },
  {
   "cell_type": "code",
   "execution_count": 36,
   "metadata": {},
   "outputs": [
    {
     "name": "stdout",
     "output_type": "stream",
     "text": [
      "{'alpha': 0.1}\n",
      "validation score:  0.9161663997624524\n"
     ]
    }
   ],
   "source": [
    "#running Ridge Regression on the dataset\n",
    "np.random.seed(0)\n",
    "x_range_2 = [0.01, 0.1, 1, 10, 100]\n",
    "tuned_parameters = [{'alpha':x_range_2}]\n",
    "\n",
    "#Grid model\n",
    "ridge = Ridge(max_iter=1000,tol=0.1,random_state=0)\n",
    "grid_ridge=GridSearchCV(ridge,tuned_parameters,cv=5, return_train_score= True, iid = False)\n",
    "grid_model_ridge=grid_ridge.fit(X_train,y_train)\n",
    "\n",
    "print(grid_model_ridge.best_params_)\n",
    "print('validation score: ', grid_model_ridge.best_score_)"
   ]
  },
  {
   "cell_type": "code",
   "execution_count": 37,
   "metadata": {},
   "outputs": [
    {
     "name": "stdout",
     "output_type": "stream",
     "text": [
      "train_score for ridge regression: 0.927085695384411\n",
      "test_score for ridge regression: 0.8986424742017015\n"
     ]
    }
   ],
   "source": [
    "#General model based on the alpha condition populated above\n",
    "ridge_1=Ridge(alpha=0.1)\n",
    "ridge_model=ridge_1.fit(X_train,y_train)\n",
    "\n",
    "print(\"train_score for ridge regression:\",ridge_model.score(X_train,y_train))\n",
    "print(\"test_score for ridge regression:\",ridge_model.score(X_test,y_test))"
   ]
  },
  {
   "cell_type": "code",
   "execution_count": 38,
   "metadata": {},
   "outputs": [
    {
     "name": "stdout",
     "output_type": "stream",
     "text": [
      "Accuracy: 91.57 %\n"
     ]
    }
   ],
   "source": [
    "#calculating the accuracies\n",
    "rg_accuracies = cross_val_score(estimator = ridge_model, X = X_train, y = y_train, cv = 10)\n",
    "print(\"Accuracy: {:.2f} %\".format(rg_accuracies.mean()*100))"
   ]
  },
  {
   "cell_type": "markdown",
   "metadata": {},
   "source": [
    "# Lasso Regression"
   ]
  },
  {
   "cell_type": "code",
   "execution_count": 39,
   "metadata": {},
   "outputs": [
    {
     "name": "stdout",
     "output_type": "stream",
     "text": [
      "{'alpha': 10}\n",
      "validation score:  0.9170685480458178\n"
     ]
    }
   ],
   "source": [
    "#running Lasso Regression on the dataset\n",
    "np.random.seed(0)    \n",
    "x_range_3 = [0.01, 0.1, 1, 10, 100, 1000]\n",
    "tuned_parameters = [{'alpha':x_range_3}]\n",
    "\n",
    "#Grid model\n",
    "lasso = Lasso(max_iter=1000,tol=0.1,random_state=0)\n",
    "grid_lasso=GridSearchCV(lasso,tuned_parameters,cv=5, return_train_score= True, iid = False)\n",
    "grid_model_lasso=grid_lasso.fit(X_train,y_train)\n",
    "\n",
    "print(grid_model_lasso.best_params_)\n",
    "print('validation score: ', grid_model_lasso.best_score_)"
   ]
  },
  {
   "cell_type": "code",
   "execution_count": 40,
   "metadata": {},
   "outputs": [
    {
     "name": "stdout",
     "output_type": "stream",
     "text": [
      "train_score for Lasso Regression: 0.923100412792801\n",
      "test_score for Lasso Regression: 0.8964710556310914\n"
     ]
    }
   ],
   "source": [
    "#General model based on the alpha condition populated above\n",
    "lasso_1=Lasso(alpha=10, tol=0.1)\n",
    "lasso_model=lasso_1.fit(X_train,y_train)\n",
    "train_score.append(lasso_model.score(X_train,y_train))\n",
    "test_score.append(lasso_model.score(X_test,y_test))\n",
    "\n",
    "test=round(lasso_model.score(X_test,y_test),2)\n",
    "\n",
    "print(\"train_score for Lasso Regression:\",lasso_model.score(X_train,y_train))\n",
    "print(\"test_score for Lasso Regression:\",lasso_model.score(X_test,y_test))"
   ]
  },
  {
   "cell_type": "code",
   "execution_count": 41,
   "metadata": {},
   "outputs": [
    {
     "name": "stdout",
     "output_type": "stream",
     "text": [
      "Accuracy: 91.69 %\n"
     ]
    }
   ],
   "source": [
    "#calculating the accuracies\n",
    "lasg_accuracies = cross_val_score(estimator = lasso_model, X = X_train, y = y_train, cv = 10)\n",
    "print(\"Accuracy: {:.2f} %\".format(lasg_accuracies.mean()*100))"
   ]
  },
  {
   "cell_type": "markdown",
   "metadata": {},
   "source": [
    "# Polynomial Regression"
   ]
  },
  {
   "cell_type": "code",
   "execution_count": 42,
   "metadata": {},
   "outputs": [],
   "source": [
    "#running Polynomial Regression on the dataset\n",
    "\n",
    "pipe = make_pipeline(\n",
    "    MinMaxScaler(),\n",
    "  PolynomialFeatures(),\n",
    "    Ridge())\n",
    "param_grid = {'polynomialfeatures__degree': [2, 3],\n",
    "              'ridge__alpha': [0.001, 0.01, 0.1, 1, 10, 100]}"
   ]
  },
  {
   "cell_type": "code",
   "execution_count": 43,
   "metadata": {},
   "outputs": [
    {
     "name": "stdout",
     "output_type": "stream",
     "text": [
      "Best cross-validation score: 0.9166023626058113\n",
      "Best parameters: {'polynomialfeatures__degree': 2, 'ridge__alpha': 1}\n",
      "0.92\n",
      "0.9\n"
     ]
    }
   ],
   "source": [
    "#using gridsearch\n",
    "poly = GridSearchCV(pipe, param_grid=param_grid, cv=10, n_jobs=-1,return_train_score=True)\n",
    "poly.fit(X_train, y_train)\n",
    "train=poly.cv_results_['mean_train_score']\n",
    "#print(\"Training score: {}\".format(train.mean()))\n",
    "#print(\"Test score: {}\".format(test.mean()))\n",
    "print(\"Best cross-validation score: {}\".format(poly.best_score_))\n",
    "print(\"Best parameters: {}\".format(poly.best_params_))\n",
    "\n",
    "poly_train = print(round(train.mean(),2))\n",
    "poly_test = print(round(test.mean(),2))"
   ]
  },
  {
   "cell_type": "code",
   "execution_count": 44,
   "metadata": {},
   "outputs": [
    {
     "name": "stdout",
     "output_type": "stream",
     "text": [
      "Accuracy: 91.45 %\n"
     ]
    }
   ],
   "source": [
    "#calculating the accuracy\n",
    "log=LinearRegression()\n",
    "\n",
    "poly = PolynomialFeatures(degree=2)\n",
    "X_train_poly = poly.fit_transform(X_train)\n",
    "X_test_poly = poly.transform(X_test)\n",
    "log_model=log.fit(X_train_poly, y_train)\n",
    "pg_accuracies = cross_val_score(estimator = log_model, X = X_train, y = y_train, cv = 10)\n",
    "print(\"Accuracy: {:.2f} %\".format(pg_accuracies.mean()*100))"
   ]
  },
  {
   "cell_type": "markdown",
   "metadata": {},
   "source": [
    "# Linear SVR"
   ]
  },
  {
   "cell_type": "code",
   "execution_count": 45,
   "metadata": {},
   "outputs": [
    {
     "data": {
      "text/plain": [
       "GridSearchCV(cv=10, error_score=nan,\n",
       "             estimator=LinearSVR(C=1.0, dual=True, epsilon=0.0,\n",
       "                                 fit_intercept=True, intercept_scaling=1.0,\n",
       "                                 loss='epsilon_insensitive', max_iter=1000,\n",
       "                                 random_state=None, tol=0.0001, verbose=0),\n",
       "             iid='deprecated', n_jobs=None,\n",
       "             param_grid={'C': [100, 1000, 10000],\n",
       "                         'epsilon': [1, 10, 100, 1000]},\n",
       "             pre_dispatch='2*n_jobs', refit=True, return_train_score=True,\n",
       "             scoring=None, verbose=0)"
      ]
     },
     "execution_count": 45,
     "metadata": {},
     "output_type": "execute_result"
    }
   ],
   "source": [
    "param_grid = {'C': [ 100, 1000, 10000], 'epsilon' : [1, 10, 100, 1000]}\n",
    "\n",
    "linearsvr = LinearSVR()\n",
    "grid_svrl = GridSearchCV(linearsvr, param_grid, return_train_score=True, cv=10)\n",
    "\n",
    "\n",
    "grid_svrl.fit(X_train,y_train)"
   ]
  },
  {
   "cell_type": "code",
   "execution_count": 46,
   "metadata": {},
   "outputs": [
    {
     "name": "stdout",
     "output_type": "stream",
     "text": [
      "Best parameters: {'C': 10000, 'epsilon': 1000}\n",
      "Best cross-validation score: 0.9073\n"
     ]
    }
   ],
   "source": [
    "print(\"Best parameters: {}\".format(grid_svrl.best_params_))\n",
    "print(\"Best cross-validation score: {:.4f}\".format(grid_svrl.best_score_))"
   ]
  },
  {
   "cell_type": "code",
   "execution_count": 47,
   "metadata": {},
   "outputs": [
    {
     "name": "stdout",
     "output_type": "stream",
     "text": [
      "train_score for linearSVR:  0.9186924662694717\n",
      "test_score for linearSVR:  0.8932875932688322\n"
     ]
    }
   ],
   "source": [
    "lsvr = LinearSVR(C = 10000, epsilon = 1000)\n",
    "        \n",
    "lsvr.fit(X_train, y_train)\n",
    "\n",
    "print(\"train_score for linearSVR: \",lsvr.score(X_train, y_train))\n",
    "print(\"test_score for linearSVR: \", lsvr.score(X_test, y_test))"
   ]
  },
  {
   "cell_type": "code",
   "execution_count": 48,
   "metadata": {},
   "outputs": [
    {
     "name": "stdout",
     "output_type": "stream",
     "text": [
      "Accuracy: 90.74 %\n"
     ]
    }
   ],
   "source": [
    "#calculating the accuracy\n",
    "linsvr_accuracies = cross_val_score(estimator = lsvr, X = X_train, y = y_train, cv = 10)\n",
    "print(\"Accuracy: {:.2f} %\".format(linsvr_accuracies.mean()*100))"
   ]
  },
  {
   "cell_type": "markdown",
   "metadata": {},
   "source": [
    "# Kernel SVM (RBF)"
   ]
  },
  {
   "cell_type": "code",
   "execution_count": 49,
   "metadata": {},
   "outputs": [
    {
     "name": "stdout",
     "output_type": "stream",
     "text": [
      "{'C': 10000, 'gamma': 0.1}\n",
      "Validation score:0.84\n"
     ]
    }
   ],
   "source": [
    "#running Kernel SVM(RBF) Regression on the dataset\n",
    "\n",
    "tuning_parameters = [{'C': [10, 100, 1000, 100000], 'gamma': [10, 1, 0.1,0.01, 0.001]}]\n",
    "\n",
    "#Grid model\n",
    "rbf_svm_grid = GridSearchCV(svm.SVR(kernel='rbf'), param_grid=tuning_parameters,cv=10)\n",
    "rbf_svm_model=rbf_svm_grid.fit(X_train,y_train) \n",
    "print(rbf_svm_model.best_params_)\n",
    "print('Validation score:{:0.2f}'.format( rbf_svm_model.best_score_))"
   ]
  },
  {
   "cell_type": "code",
   "execution_count": 52,
   "metadata": {},
   "outputs": [
    {
     "name": "stdout",
     "output_type": "stream",
     "text": [
      "train_score for rbf kernel SVM: 0.93\n",
      "test_score for rbf kernel SVM: 0.89\n"
     ]
    }
   ],
   "source": [
    "#General model based on the C and gamma condition populated above\n",
    "rbf_svr=svm.SVR(C=100000,gamma=0.1)\n",
    "rbf_svr_model=rbf_svr.fit(X_train,y_train)\n",
    "train_rbf=round(rbf_svr_model.score(X_train,y_train),2)\n",
    "test_rbf=round(rbf_svr_model.score(X_test,y_test),2)\n",
    "print(\"train_score for rbf kernel SVM:\",train_rbf)\n",
    "print(\"test_score for rbf kernel SVM:\",test_rbf)"
   ]
  },
  {
   "cell_type": "code",
   "execution_count": 53,
   "metadata": {},
   "outputs": [
    {
     "name": "stdout",
     "output_type": "stream",
     "text": [
      "Accuracy: 91.43 %\n"
     ]
    }
   ],
   "source": [
    "#calculating the accuracy\n",
    "rbf_accuracies = cross_val_score(estimator = rbf_svr_model, X = X_train, y = y_train, cv = 10)\n",
    "print(\"Accuracy: {:.2f} %\".format(rbf_accuracies.mean()*100))"
   ]
  },
  {
   "cell_type": "markdown",
   "metadata": {},
   "source": [
    "# Kernel SVM (Poly)"
   ]
  },
  {
   "cell_type": "code",
   "execution_count": 55,
   "metadata": {},
   "outputs": [
    {
     "name": "stdout",
     "output_type": "stream",
     "text": [
      "{'C': 10000, 'degree': 3, 'gamma': 'scale'}\n",
      "Validation score:0.91\n"
     ]
    }
   ],
   "source": [
    "#running Kernel SVM(Poly) on the dataset\n",
    "\n",
    "tuning_parameters = [{'C': [ 100, 1000, 10000],'degree':[3, 4, 5, 6, 7, 8, 9],'gamma':['auto','scale']}]\n",
    "\n",
    "#Grid model\n",
    "poly_svm_grid = GridSearchCV(svm.SVR(kernel='poly'), param_grid=tuning_parameters,cv=10)\n",
    "poly_svm_model=poly_svm_grid.fit(X_train,y_train) \n",
    "print(poly_svm_model.best_params_)\n",
    "print('Validation score:{:0.2f}'.format( poly_svm_model.best_score_)) "
   ]
  },
  {
   "cell_type": "code",
   "execution_count": 56,
   "metadata": {},
   "outputs": [
    {
     "name": "stdout",
     "output_type": "stream",
     "text": [
      "train_score for poly kernel SVM: 0.931233498331567\n",
      "test_score for poly kernel SVM: 0.8711625997102042\n"
     ]
    }
   ],
   "source": [
    "#General model based on the C, gamma, degree condition populated above\n",
    "poly_svr=svm.SVR(C=10000,kernel='poly',degree= 3,gamma='scale')\n",
    "poly_svr_model=poly_svr.fit(X_train,y_train)\n",
    "print(\"train_score for poly kernel SVM:\", poly_svr_model.score(X_train,y_train))\n",
    "print(\"test_score for poly kernel SVM:\", poly_svr_model.score(X_test,y_test))"
   ]
  },
  {
   "cell_type": "code",
   "execution_count": 57,
   "metadata": {},
   "outputs": [
    {
     "name": "stdout",
     "output_type": "stream",
     "text": [
      "Accuracy: 91.19 %\n"
     ]
    }
   ],
   "source": [
    "#calculating the accuracy\n",
    "ksvmp_accuracies = cross_val_score(estimator = poly_svr_model, X = X_train, y = y_train, cv = 10)\n",
    "print(\"Accuracy: {:.2f} %\".format(ksvmp_accuracies.mean()*100))"
   ]
  },
  {
   "cell_type": "markdown",
   "metadata": {},
   "source": [
    "# Kernel SVM (Linear)"
   ]
  },
  {
   "cell_type": "code",
   "execution_count": 61,
   "metadata": {},
   "outputs": [
    {
     "name": "stdout",
     "output_type": "stream",
     "text": [
      "{'C': 10000, 'gamma': 100}\n",
      "Validation score: 0.9156688271999556\n"
     ]
    }
   ],
   "source": [
    "#running Kernel SVM(Linear) on the dataset\n",
    "tuning_parameters = [{'C': [100, 1000, 10000],'gamma': [100, 10, 1]}]\n",
    "\n",
    "#Grid model\n",
    "svm_grid = GridSearchCV(svm.SVR(kernel='linear'), param_grid=tuning_parameters,cv=10)\n",
    "svm_model=svm_grid.fit(X_train,y_train) \n",
    "print(svm_model.best_params_)\n",
    "print('Validation score:', svm_model.best_score_) \n"
   ]
  },
  {
   "cell_type": "code",
   "execution_count": 62,
   "metadata": {},
   "outputs": [
    {
     "name": "stdout",
     "output_type": "stream",
     "text": [
      "train_score for kernel SVM Linear: 0.9252267915684751\n",
      "test_score for kernel SVM Linear: 0.8987829112736042\n"
     ]
    }
   ],
   "source": [
    "#General model based on the C, gamma condition populated above\n",
    "svr=svm.SVR(C=10000,kernel='linear',gamma=100)\n",
    "svr_model=svr.fit(X_train,y_train)\n",
    "\n",
    "print(\"train_score for kernel SVM Linear:\", svr_model.score(X_train,y_train))\n",
    "print(\"test_score for kernel SVM Linear:\", svr_model.score(X_test,y_test))"
   ]
  },
  {
   "cell_type": "code",
   "execution_count": 63,
   "metadata": {},
   "outputs": [
    {
     "name": "stdout",
     "output_type": "stream",
     "text": [
      "Accuracy: 91.57 %\n"
     ]
    }
   ],
   "source": [
    "#calculating the accuracy\n",
    "ksvml_accuracies = cross_val_score(estimator = svr_model, X = X_train, y = y_train, cv = 10)\n",
    "print(\"Accuracy: {:.2f} %\".format(ksvml_accuracies.mean()*100))"
   ]
  },
  {
   "cell_type": "markdown",
   "metadata": {},
   "source": [
    "# Decision Tree Regressor"
   ]
  },
  {
   "cell_type": "code",
   "execution_count": 58,
   "metadata": {},
   "outputs": [
    {
     "name": "stdout",
     "output_type": "stream",
     "text": [
      "{'max_depth': 9}\n",
      "Validation score: 0.8672362198620522\n"
     ]
    }
   ],
   "source": [
    "\n",
    "#Using gridsearch to find the best hyperparameter values for the model\n",
    "\n",
    "param_grid = {'max_depth': np.arange(3, 10)}\n",
    "dtree_grid = GridSearchCV(DecisionTreeRegressor(), param_grid)\n",
    "dtree_grid.fit(X_train, y_train)\n",
    "\n",
    "print(dtree_grid.best_params_)\n",
    "print('Validation score:', dtree_grid.best_score_) "
   ]
  },
  {
   "cell_type": "code",
   "execution_count": 59,
   "metadata": {},
   "outputs": [
    {
     "name": "stdout",
     "output_type": "stream",
     "text": [
      "train_score for decision tree: 0.9674450197287345\n",
      "test_score for decision tree: 0.8491252821202724\n"
     ]
    }
   ],
   "source": [
    "dtree = DecisionTreeRegressor(max_depth=9, random_state = 0)\n",
    "dtree.fit(X_train, y_train)\n",
    "\n",
    "print(\"train_score for decision tree:\", dtree.score(X_train,y_train))\n",
    "print(\"test_score for decision tree:\", dtree.score(X_test,y_test))"
   ]
  },
  {
   "cell_type": "code",
   "execution_count": 60,
   "metadata": {},
   "outputs": [
    {
     "name": "stdout",
     "output_type": "stream",
     "text": [
      "Accuracy: 87.07 %\n"
     ]
    }
   ],
   "source": [
    "#calculating the accuracy\n",
    "\n",
    "dtree_accuracies = cross_val_score(estimator = dtree, X = X_train, y = y_train, cv = 10)\n",
    "print(\"Accuracy: {:.2f} %\".format(dtree_accuracies.mean()*100))"
   ]
  },
  {
   "cell_type": "markdown",
   "metadata": {},
   "source": [
    "Appending all the scores in a grid shaped box shown below"
   ]
  },
  {
   "cell_type": "code",
   "execution_count": 64,
   "metadata": {},
   "outputs": [],
   "source": [
    "models_reg=[]\n",
    "models_reg.append({'Model Name' : 'KNN Regression','Train score': round(knn_model.score(X_train,y_train),2),\n",
    "               'Test score': round(knn_model.score(X_test,y_test),2),'Accuracy Score' : (knn_accuracies.mean()*100) })\n",
    "\n",
    "models_reg.append({'Model Name' : 'Linear Regression','Train score': round(l_model.score(X_train, y_train),2),\n",
    "               'Test score': round(l_model.score(X_test, y_test),2),'Accuracy Score' : (lg_accuracies.mean()*100)})\n",
    "\n",
    "models_reg.append({'Model Name' : 'Ridge Regression','Train score': round(ridge_model.score(X_train,y_train),2),\n",
    "                         'Test score': round(ridge_model.score(X_test,y_test),2), 'Accuracy Score' : (rg_accuracies.mean()*100)})\n",
    "\n",
    "models_reg.append({'Model Name' : 'Lasso Regression','Train score': round(lasso_model.score(X_train,y_train),2),\n",
    "                         'Test score': round(lasso_model.score(X_test,y_test),2), 'Accuracy Score' : (lasg_accuracies.mean()*100)})\n",
    "\n",
    "models_reg.append({'Model Name' : 'Polynomial Regression','Train score': (round(train.mean(),2)),\n",
    "                         'Test score': (round(test.mean(),2)), 'Accuracy Score' : (pg_accuracies.mean()*100)})\n",
    "\n",
    "models_reg.append({'Model Name' : 'Linear SVR','Train score': round(lsvr.score(X_train,y_train),2),\n",
    "                         'Test score': round(lsvr.score(X_test,y_test),2),'Accuracy Score' : (linsvr_accuracies.mean()*100)})\n",
    "\n",
    "models_reg.append({'Model Name' : 'Kernel SVM RBF','Train score': round(rbf_svr_model.score(X_train,y_train),2),\n",
    "                         'Test score': round(rbf_svr_model.score(X_test,y_test),2),'Accuracy Score' : (rbf_accuracies.mean()*100)})\n",
    "\n",
    "models_reg.append({'Model Name' : 'Kernel SVM Poly','Train score': round(poly_svr_model.score(X_train,y_train),2),\n",
    "                         'Test score': round(poly_svr_model.score(X_test,y_test),2),'Accuracy Score' : (ksvmp_accuracies.mean()*100)})\n",
    "\n",
    "models_reg.append({'Model Name' : 'Kernel SVM Linear','Train score': round(svr_model.score(X_train,y_train),2),\n",
    "                         'Test score': round(svr_model.score(X_test,y_test),2),'Accuracy Score' : (ksvml_accuracies.mean()*100)})\n",
    "\n",
    "models_reg.append({'Model Name' : 'Decision Tree','Train score': round(dtree.score(X_train,y_train),2),\n",
    "                         'Test score': round(dtree.score(X_test,y_test),2),'Accuracy Score' : (dtree_accuracies.mean()*100)})"
   ]
  },
  {
   "cell_type": "code",
   "execution_count": 65,
   "metadata": {},
   "outputs": [
    {
     "data": {
      "text/html": [
       "<div>\n",
       "<style scoped>\n",
       "    .dataframe tbody tr th:only-of-type {\n",
       "        vertical-align: middle;\n",
       "    }\n",
       "\n",
       "    .dataframe tbody tr th {\n",
       "        vertical-align: top;\n",
       "    }\n",
       "\n",
       "    .dataframe thead th {\n",
       "        text-align: right;\n",
       "    }\n",
       "</style>\n",
       "<table border=\"1\" class=\"dataframe\">\n",
       "  <thead>\n",
       "    <tr style=\"text-align: right;\">\n",
       "      <th></th>\n",
       "      <th>Train score</th>\n",
       "      <th>Test score</th>\n",
       "      <th>Accuracy Score</th>\n",
       "    </tr>\n",
       "    <tr>\n",
       "      <th>Model Name</th>\n",
       "      <th></th>\n",
       "      <th></th>\n",
       "      <th></th>\n",
       "    </tr>\n",
       "  </thead>\n",
       "  <tbody>\n",
       "    <tr>\n",
       "      <td>KNN Regression</td>\n",
       "      <td>1.00</td>\n",
       "      <td>0.60</td>\n",
       "      <td>61.107099</td>\n",
       "    </tr>\n",
       "    <tr>\n",
       "      <td>Linear Regression</td>\n",
       "      <td>0.93</td>\n",
       "      <td>0.90</td>\n",
       "      <td>91.446402</td>\n",
       "    </tr>\n",
       "    <tr>\n",
       "      <td>Ridge Regression</td>\n",
       "      <td>0.93</td>\n",
       "      <td>0.90</td>\n",
       "      <td>91.569241</td>\n",
       "    </tr>\n",
       "    <tr>\n",
       "      <td>Lasso Regression</td>\n",
       "      <td>0.92</td>\n",
       "      <td>0.90</td>\n",
       "      <td>91.691928</td>\n",
       "    </tr>\n",
       "    <tr>\n",
       "      <td>Polynomial Regression</td>\n",
       "      <td>0.92</td>\n",
       "      <td>0.90</td>\n",
       "      <td>91.446402</td>\n",
       "    </tr>\n",
       "    <tr>\n",
       "      <td>Linear SVR</td>\n",
       "      <td>0.92</td>\n",
       "      <td>0.89</td>\n",
       "      <td>90.742864</td>\n",
       "    </tr>\n",
       "    <tr>\n",
       "      <td>Kernel SVM RBF</td>\n",
       "      <td>0.93</td>\n",
       "      <td>0.89</td>\n",
       "      <td>91.433891</td>\n",
       "    </tr>\n",
       "    <tr>\n",
       "      <td>Kernel SVM Poly</td>\n",
       "      <td>0.93</td>\n",
       "      <td>0.87</td>\n",
       "      <td>91.194757</td>\n",
       "    </tr>\n",
       "    <tr>\n",
       "      <td>Kernel SVM Linear</td>\n",
       "      <td>0.93</td>\n",
       "      <td>0.90</td>\n",
       "      <td>91.566883</td>\n",
       "    </tr>\n",
       "    <tr>\n",
       "      <td>Decision Tree</td>\n",
       "      <td>0.97</td>\n",
       "      <td>0.85</td>\n",
       "      <td>87.071424</td>\n",
       "    </tr>\n",
       "  </tbody>\n",
       "</table>\n",
       "</div>"
      ],
      "text/plain": [
       "                       Train score  Test score  Accuracy Score\n",
       "Model Name                                                    \n",
       "KNN Regression                1.00        0.60       61.107099\n",
       "Linear Regression             0.93        0.90       91.446402\n",
       "Ridge Regression              0.93        0.90       91.569241\n",
       "Lasso Regression              0.92        0.90       91.691928\n",
       "Polynomial Regression         0.92        0.90       91.446402\n",
       "Linear SVR                    0.92        0.89       90.742864\n",
       "Kernel SVM RBF                0.93        0.89       91.433891\n",
       "Kernel SVM Poly               0.93        0.87       91.194757\n",
       "Kernel SVM Linear             0.93        0.90       91.566883\n",
       "Decision Tree                 0.97        0.85       87.071424"
      ]
     },
     "execution_count": 65,
     "metadata": {},
     "output_type": "execute_result"
    }
   ],
   "source": [
    "model_reg = pd.DataFrame(models_reg)\n",
    "model_reg.set_index('Model Name', inplace = True)\n",
    "model_reg"
   ]
  },
  {
   "cell_type": "code",
   "execution_count": 66,
   "metadata": {},
   "outputs": [
    {
     "data": {
      "text/plain": [
       "<matplotlib.legend.Legend at 0x1e60b626608>"
      ]
     },
     "execution_count": 66,
     "metadata": {},
     "output_type": "execute_result"
    },
    {
     "data": {
      "image/png": "[encoded data removed]",
      "text/plain": [
       "<Figure size 1152x432 with 1 Axes>"
      ]
     },
     "metadata": {
      "needs_background": "light"
     },
     "output_type": "display_data"
    }
   ],
   "source": [
    "plt.figure(figsize=(16,6))\n",
    "\n",
    "plt.bar(model_reg.index, model_reg['Accuracy Score'], label=\"Accuracy Score\")\n",
    "\n",
    "plt.xticks(model_reg.index, rotation = 45)\n",
    "\n",
    "plt.ylabel(\"Accuracy\")\n",
    "plt.xlabel(\"Model\")\n",
    "plt.title(\"Accuracy for different models\")\n",
    "plt.legend()"
   ]
  },
  {
   "cell_type": "markdown",
   "metadata": {},
   "source": [
    "# From the above populated accuracies, train score and test score, we can say that Lasso Regression performs the best with 91.69% accuracy"
   ]
  },
  {
   "cell_type": "code",
   "execution_count": 67,
   "metadata": {},
   "outputs": [
    {
     "data": {
      "text/plain": [
       "0.8964710556310914"
      ]
     },
     "execution_count": 67,
     "metadata": {},
     "output_type": "execute_result"
    }
   ],
   "source": [
    "#predicting the values for the best model\n",
    "y_pred = lasso_model.predict(X_test)\n",
    "r2_score(y_test, y_pred)"
   ]
  },
  {
   "cell_type": "code",
   "execution_count": null,
   "metadata": {},
   "outputs": [],
   "source": []
  }
 ],
 "metadata": {
  "kernelspec": {
   "display_name": "Python 3",
   "language": "python",
   "name": "python3"
  },
  "language_info": {
   "codemirror_mode": {
    "name": "ipython",
    "version": 3
   },
   "file_extension": ".py",
   "mimetype": "text/x-python",
   "name": "python",
   "nbconvert_exporter": "python",
   "pygments_lexer": "ipython3",
   "version": "3.7.4"
  }
 },
 "nbformat": 4,
 "nbformat_minor": 2
}
